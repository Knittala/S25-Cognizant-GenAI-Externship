{
 "cells": [
  {
   "cell_type": "code",
   "id": "initial_id",
   "metadata": {
    "collapsed": true,
    "ExecuteTime": {
     "end_time": "2025-06-26T22:48:06.466230Z",
     "start_time": "2025-06-26T22:48:03.252852Z"
    }
   },
   "source": [
    "#Task 1: Writing Functions\n",
    "\n",
    "#Taking user input for the name\n",
    "name = input(\"Please enter your name: \")\n",
    "\n",
    "#greet_user function that takes the name parameter and adds it to the welcome sentence\n",
    "def greet_user(name):\n",
    "    return f\"Hello, {name}! Welcome aboard.\"\n",
    "\n",
    "#add_numbers function that adds any two numbers given as parameters\n",
    "def add_numbers(a, b):\n",
    "    return a + b\n",
    "\n",
    "#defining the numbers to be parameters\n",
    "num1 = 5\n",
    "num2 = 7\n",
    "\n",
    "#calling the functions\n",
    "welcome = greet_user(name)\n",
    "summation = add_numbers(num1, num2)\n",
    "\n",
    "#printing the combined result\n",
    "result = f\"{welcome} The sum of {num1} and {num2} is {summation}.\"\n",
    "print(result)\n"
   ],
   "outputs": [
    {
     "name": "stdout",
     "output_type": "stream",
     "text": [
      "Hello, Alice! Welcome aboard. The sum of 5 and 7 is 12.\n"
     ]
    }
   ],
   "execution_count": 6
  },
  {
   "metadata": {
    "ExecuteTime": {
     "end_time": "2025-06-26T22:55:40.219088Z",
     "start_time": "2025-06-26T22:55:40.203133Z"
    }
   },
   "cell_type": "code",
   "source": [
    "#Task 2: Using Default Parameters\n",
    "\n",
    "#describe_pet function that takes the animal type and pet name as two parameters and inputs them into the statement\n",
    "def describe_pet(animal_type, pet_name):\n",
    "    return f\"I have a {animal_type} named {pet_name}.\"\n",
    "\n",
    "#calling the function for both the dog Buddy and cat Whiskers\n",
    "dog = describe_pet(\"dog\", \"Buddy\")\n",
    "cat = describe_pet(\"cat\", \"Whiskers\")\n",
    "\n",
    "#combining both statements into one string\n",
    "my_pets = f\"{dog} {cat}\"\n",
    "print(my_pets)"
   ],
   "id": "1afed3946b6930bf",
   "outputs": [
    {
     "name": "stdout",
     "output_type": "stream",
     "text": [
      "I have a dog named Buddy. I have a cat named Whiskers.\n"
     ]
    }
   ],
   "execution_count": 13
  },
  {
   "metadata": {
    "ExecuteTime": {
     "end_time": "2025-06-26T23:32:59.672602Z",
     "start_time": "2025-06-26T23:32:59.656731Z"
    }
   },
   "cell_type": "code",
   "source": [
    "#Task 3: Functions with Variable Arguments\n",
    "\n",
    "#make_sandwich function that takes the variable number of arguments for sandwhich ingredients\n",
    "def make_sandwich(*ingredients):\n",
    "\n",
    "    if not ingredients:\n",
    "        print(f\"Would like to have some plain bread.\")\n",
    "        return\n",
    "\n",
    "    capitalized_ingredients = (ingredients.capitalize() for ingredients in ingredients)\n",
    "\n",
    "#joining with hyphens\n",
    "    ingredients_str = \" - \".join(capitalized_ingredients)\n",
    "\n",
    "#printing the statement\n",
    "    print(f\"Making a sandwich with the following ingredients: - {ingredients_str}\")\n",
    "\n",
    "#calling the function with *ingredients listed\n",
    "make_sandwich(\"lettuce\", \"tomato\",\"cheese\" )"
   ],
   "id": "1b1dc54a8db4967d",
   "outputs": [
    {
     "name": "stdout",
     "output_type": "stream",
     "text": [
      "Making a sandwich with the following ingredients: - Lettuce - Tomato - Cheese\n"
     ]
    }
   ],
   "execution_count": 27
  },
  {
   "metadata": {
    "ExecuteTime": {
     "end_time": "2025-06-27T02:25:11.732116Z",
     "start_time": "2025-06-27T02:25:11.719115Z"
    }
   },
   "cell_type": "code",
   "source": [
    "#Task 4: Understanding Recursion\n",
    "\n",
    "#recursive function created for factorial\n",
    "def factorial_recursive(n):\n",
    "    if n == 0 or n == 1:\n",
    "        return 1\n",
    "    else:\n",
    "        return n * factorial_recursive(n - 1)\n",
    "\n",
    "#recusive function created for fibonacci\n",
    "def fibonacci_recursive(n):\n",
    "    if n <= 1:\n",
    "        return n\n",
    "    else:\n",
    "        return fibonacci_recursive(n-1) + fibonacci_recursive(n-2)\n",
    "\n",
    "#setting the factorial and fibonacci values\n",
    "factorial = 5\n",
    "fibonacci = 6\n",
    "\n",
    "#calling the functions\n",
    "factorial_result = factorial_recursive(factorial)\n",
    "fibonacci_result = fibonacci_recursive(fibonacci)\n",
    "\n",
    "#formatting and combining to print final completed statement\n",
    "factorial_statement = f\"The factorial of {factorial} is {factorial_result}.\"\n",
    "fibonacci_statement = f\"The {fibonacci_result}th Fibonacci number is {fibonacci_result}.\"\n",
    "\n",
    "combined = f\"{factorial_statement} {fibonacci_statement}\"\n",
    "print(combined)\n"
   ],
   "id": "2bbd7a26893d4a22",
   "outputs": [
    {
     "name": "stdout",
     "output_type": "stream",
     "text": [
      "The factorial of 5 is 120. The 8th Fibonacci number is 8.\n"
     ]
    }
   ],
   "execution_count": 29
  },
  {
   "metadata": {},
   "cell_type": "code",
   "outputs": [],
   "execution_count": null,
   "source": "",
   "id": "35c70f1d8dc4070a"
  }
 ],
 "metadata": {
  "kernelspec": {
   "display_name": "Python 3",
   "language": "python",
   "name": "python3"
  },
  "language_info": {
   "codemirror_mode": {
    "name": "ipython",
    "version": 2
   },
   "file_extension": ".py",
   "mimetype": "text/x-python",
   "name": "python",
   "nbconvert_exporter": "python",
   "pygments_lexer": "ipython2",
   "version": "2.7.6"
  }
 },
 "nbformat": 4,
 "nbformat_minor": 5
}
