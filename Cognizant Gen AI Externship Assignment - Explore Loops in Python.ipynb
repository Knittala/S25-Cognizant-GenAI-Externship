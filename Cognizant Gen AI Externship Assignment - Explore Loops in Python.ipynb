{
 "cells": [
  {
   "cell_type": "code",
   "id": "initial_id",
   "metadata": {
    "collapsed": true
   },
   "source": [
    "#Task 1: Counting Down with Loops\n",
    "\n",
    "#taking user input for the starting number\n",
    "start = int(input(\"Enter a starting number for the countdown: \"))\n",
    "\n",
    "#while loop to iterate backwards until 1 is the last number\n",
    "while start >= 1:\n",
    "    print(start)\n",
    "    start -= 1\n",
    "\n",
    "#printing the celebratory statement\n",
    "print(\"Blast off!\")"
   ],
   "outputs": [],
   "execution_count": null
  },
  {
   "metadata": {},
   "cell_type": "code",
   "source": [
    "#Task 2: Multiplication Table with for Loops\n",
    "\n",
    "#taking user input for the number they would like to calculate the multiplication table with\n",
    "number = int(input(\"Enter a number to generate its multiplication table: \"))\n",
    "\n",
    "#for loop to iterate through 1 to 10 and print the multiplication table for the chosen number\n",
    "for i in range(1, 10):\n",
    "    value = number * i\n",
    "    print(f\"{number} x {i} = {value}\")"
   ],
   "id": "a972512e81f33f7e",
   "outputs": [],
   "execution_count": null
  },
  {
   "metadata": {},
   "cell_type": "code",
   "source": [
    "#Task 3: Find the Factorial\n",
    "\n",
    "#taking user input for the number they would like the factorial of\n",
    "number = int(input(\"Enter a number to calculate its factorial: \"))\n",
    "\n",
    "#initializing the factorial\n",
    "factorial = 1\n",
    "\n",
    "#for loop to generate the factorial calculation\n",
    "for i in range(1, number + 1):\n",
    "    factorial = factorial * i\n",
    "\n",
    "#printing the final calculation using an f string\n",
    "print(f\"The factorial of {number} is {factorial}\")"
   ],
   "id": "3e5b19e9f163b440",
   "outputs": [],
   "execution_count": null
  }
 ],
 "metadata": {
  "kernelspec": {
   "display_name": "Python 3",
   "language": "python",
   "name": "python3"
  },
  "language_info": {
   "codemirror_mode": {
    "name": "ipython",
    "version": 2
   },
   "file_extension": ".py",
   "mimetype": "text/x-python",
   "name": "python",
   "nbconvert_exporter": "python",
   "pygments_lexer": "ipython2",
   "version": "2.7.6"
  }
 },
 "nbformat": 4,
 "nbformat_minor": 5
}
