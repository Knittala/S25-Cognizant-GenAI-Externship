{
 "cells": [
  {
   "cell_type": "code",
   "execution_count": null,
   "id": "56abb5d0-db67-4866-ad0f-22a4a5e7813f",
   "metadata": {},
   "outputs": [
    {
     "name": "stdout",
     "output_type": "stream",
     "text": [
      "Hey there, my name is Kundana! I'm 22 years old and 5.8 feet tall.\n",
      "The sum of 8 and 4 is, 12\n",
      "The difference between 8 and 4 is, 4\n",
      "The product of 8 and 4 is, 32\n",
      "The quotient of 8 and 4 is, 2.0\n"
     ]
    }
   ],
   "source": [
    "#### Task 1 - Variables: Your First Python Intro ####\n",
    "\n",
    "#Creating my variables\n",
    "name = \"Kundana\"\n",
    "age = str(22)\n",
    "height = str(5.8)\n",
    "\n",
    "#printing my intro statement\n",
    "print (\"Hey there, my name is \" + name + \"! I'm \" + age + \" years old and \" + height + \" feet tall.\")\n",
    "\n",
    "\n",
    "\n",
    "#### Task 2 - Operators: Playing with Numbers ####\n",
    "\n",
    "#Creating my variables\n",
    "\n",
    "num1 = 8\n",
    "num2 = 4\n",
    "\n",
    "#printing \"the sum of num1 and num2\" using the f string to maintain original values and then printing the actual value resulting from the addition\n",
    "print(f\"The sum of {num1} and {num2} is, {num1 + num2}\")\n",
    "#printing \"the difference between num1 and num2\" using the f string to maintain original values and then printing the actual value resulting from the subtraction\n",
    "print(f\"The difference between {num1} and {num2} is, {num1 - num2}\")\n",
    "#printing \"the product of num1 and num2\" using the f string to maintain original values and then printing the actual value resulting from the multiplication\n",
    "print(f\"The product of {num1} and {num2} is, {num1 * num2}\")\n",
    "#printing \"the quotient of num1 and num2\" using the f string to maintain original values and then printing the actual value resulting from the division\n",
    "print(f\"The quotient of {num1} and {num2} is, {num1 / num2}\")\n",
    "\n",
    "\n",
    "\n",
    "#### Task 3 - Conditional Statements: The Number Checker ####\n",
    "\n",
    "#Asking for user input using the selectedNum variable\n",
    "selectedNum = input(\"Enter a number: \")\n",
    "\n",
    "#converting the variable from a string to an integer for calculations\n",
    "selectedNum = int(selectedNum)\n",
    "\n",
    "#using conditional statements to determine if the inputted number is positive, negative, or exactly zero\n",
    "if selectedNum > 0:\n",
    "    print(\"This number is positive. Awesome!\")\n",
    "elif selectedNum < 0:\n",
    "    print(\"This number is negative. Better luck next time!\")\n",
    "elif selectedNum == 0:\n",
    "    print(\"Zero it is. A perfect balance!\")\n",
    "\n"
   ]
  },
  {
   "cell_type": "code",
   "execution_count": null,
   "id": "8e46ad88-e1cb-4856-a838-5acdd1710f0a",
   "metadata": {},
   "outputs": [],
   "source": []
  },
  {
   "cell_type": "code",
   "execution_count": null,
   "id": "b724b74e-b501-4140-ac60-e709210cec1f",
   "metadata": {},
   "outputs": [],
   "source": []
  }
 ],
 "metadata": {
  "kernelspec": {
   "display_name": "Python [conda env:base] *",
   "language": "python",
   "name": "conda-base-py"
  },
  "language_info": {
   "codemirror_mode": {
    "name": "ipython",
    "version": 3
   },
   "file_extension": ".py",
   "mimetype": "text/x-python",
   "name": "python",
   "nbconvert_exporter": "python",
   "pygments_lexer": "ipython3",
   "version": "3.12.7"
  }
 },
 "nbformat": 4,
 "nbformat_minor": 5
}
