{
 "cells": [
  {
   "cell_type": "code",
   "id": "initial_id",
   "metadata": {
    "collapsed": true,
    "ExecuteTime": {
     "end_time": "2025-06-25T23:53:46.367614Z",
     "start_time": "2025-06-25T23:53:46.342942Z"
    }
   },
   "source": [
    "#Step 1: Generate a random number\n",
    "\n",
    "import random\n",
    "\n",
    "#generating a random number using random.randint within the range of 1 to 100\n",
    "number_to_guess = random.randint(1, 100)\n",
    "\n",
    "print(number_to_guess)"
   ],
   "outputs": [
    {
     "name": "stdout",
     "output_type": "stream",
     "text": [
      "27\n"
     ]
    }
   ],
   "execution_count": 14
  },
  {
   "metadata": {
    "ExecuteTime": {
     "end_time": "2025-06-25T23:54:18.736585Z",
     "start_time": "2025-06-25T23:53:47.937455Z"
    }
   },
   "cell_type": "code",
   "source": [
    "#Step 2: Prompt the User for Guesses\n",
    "\n",
    "#prompting the user to guess a number within the 1 to 100 range\n",
    "chosen_num = int(input(\"Guess the number (between 1 and 100): \"))\n",
    "\n",
    "#setting max number of attempts and initializing attempts\n",
    "max_attempts = 10\n",
    "attempts = 0\n",
    "\n",
    "#while loop used to observe the number chosen and let the user know if their guess was too high or low\n",
    "chosen_num = int(input(f\"Guess the number (Attempt 1 of {max_attempts}): \"))\n",
    "while chosen_num != number_to_guess and attempts < max_attempts - 1:\n",
    "    attempts += 1\n",
    "    if chosen_num > number_to_guess:\n",
    "        print(\"Too high! Try again.\")\n",
    "    elif chosen_num < number_to_guess:\n",
    "        print(\"Too low! Try again.\")\n",
    "\n",
    "#statement to indicate the number of attempts that are left\n",
    "    chosen_num = int(input(f\"Guess the number (Attempt {attempts + 1} of {max_attempts}): \"))\n",
    "\n",
    "#if the guess is successful, printing a celebratory message with the number of attempts made\n",
    "if chosen_num == number_to_guess:\n",
    "    attempts += 1\n",
    "    print(f\"\\nCongratulations! You guessed it in {attempts} attempts!\")\n",
    "\n",
    "#if the guess is incorrect within the 10 given attempts, display a game ending message and the actual random number\n",
    "else:\n",
    "    print(\"\\nGame over! Better luck next time!\")\n",
    "    print(f\"\\nThe actual number was {number_to_guess}.\")"
   ],
   "id": "a3bbfe789e36078d",
   "outputs": [
    {
     "name": "stdout",
     "output_type": "stream",
     "text": [
      "Too low! Try again.\n",
      "Too low! Try again.\n",
      "Too low! Try again.\n",
      "Too low! Try again.\n",
      "\n",
      "Congratulations! You guessed it in 5 attempts!\n"
     ]
    }
   ],
   "execution_count": 15
  },
  {
   "metadata": {},
   "cell_type": "code",
   "outputs": [],
   "execution_count": null,
   "source": [
    "#Step 3: Count the Attempts\n",
    "\n",
    "\n"
   ],
   "id": "511f2aef35fd700d"
  }
 ],
 "metadata": {
  "kernelspec": {
   "display_name": "Python 3",
   "language": "python",
   "name": "python3"
  },
  "language_info": {
   "codemirror_mode": {
    "name": "ipython",
    "version": 2
   },
   "file_extension": ".py",
   "mimetype": "text/x-python",
   "name": "python",
   "nbconvert_exporter": "python",
   "pygments_lexer": "ipython2",
   "version": "2.7.6"
  }
 },
 "nbformat": 4,
 "nbformat_minor": 5
}
