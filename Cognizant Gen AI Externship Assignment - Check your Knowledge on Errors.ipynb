{
 "cells": [
  {
   "cell_type": "code",
   "id": "initial_id",
   "metadata": {
    "collapsed": true
   },
   "source": [
    "#Task 1: Understanding Python Exceptions\n",
    "\n",
    "#Prompting the user to enter a number\n",
    "\n",
    "number = input(\"Enter a number: \")\n",
    "\n",
    "if number.isdigit() or (number.startswith(\"-\") and number[1:].isdigit()):\n",
    "    num = int(number)\n",
    "\n",
    "    if num > 0:\n",
    "        hundred = 100/int(number)\n",
    "        print(hundred)\n",
    "    elif num == 0:\n",
    "        print(\"Oops! You cannot divide by zero!\")\n",
    "    else:\n",
    "        print(\"Invalid input! Please enter a valid number.\")\n",
    "\n",
    "else:\n",
    "    print(\"Invalid input! Please enter a valid number.\")\n"
   ],
   "outputs": [],
   "execution_count": null
  },
  {
   "metadata": {},
   "cell_type": "code",
   "source": [
    "#Task 2 - Types of Exceptions\n",
    "\n",
    "fruits_list = [\"strawberry\", \"peach\", \"mango\"]\n",
    "books_dict = {\"author\": \"John Smith\", \"genre\": \"fiction\", \"volume\": 24}\n",
    "\n",
    "#Creating the IndexError\n",
    "try:\n",
    "    print(fruits_list[-4])\n",
    "#Printing the exception\n",
    "except IndexError as e:\n",
    "    print(\"IndexError occurred! List index out of range.\")\n",
    "#Fixing the error by accessing a valid index\n",
    "print(fruits_list[1])\n",
    "\n",
    "#Creating the KeyError\n",
    "try:\n",
    "    print(books_dict[\"title\"])\n",
    "#printing the exception\n",
    "except KeyError as e:\n",
    "    print(\"KeyError occurred! Key not found in the dictionary.\")\n",
    "#Fixing the error by adding a conditional statement\n",
    "if \"title\" in books_dict:\n",
    "    print(books_dict[\"title\"])\n",
    "else:\n",
    "    print(\"Key 'title' not found in the dictionary.\")\n",
    "\n",
    "#Creating the TypeError\n",
    "try:\n",
    "    result = \"Welcome, \" + 80\n",
    "#printing the exception\n",
    "except TypeError as e:\n",
    "    print(\"TypeError occurred! Unsupported operand types.\")\n",
    "#Fixing the error by changing the integer to a string\n",
    "result1 = \"Welcome, \" + str(80)\n",
    "print(result1)\n"
   ],
   "id": "388f6b5478e11337",
   "outputs": [],
   "execution_count": null
  },
  {
   "metadata": {},
   "cell_type": "code",
   "source": [
    "#Task 3 - Using try...except...else...finally\n",
    "\n",
    "#try block that attempts division\n",
    "try:\n",
    "    num1 = input(\"Enter the first number: \")\n",
    "    num2 = input(\"Enter the second number: \")\n",
    "\n",
    "    num1 = int(num1)\n",
    "    num2 = int(num2)\n",
    "\n",
    "    result = num1/num2\n",
    "#except blocks that handle exceptions of invalid input or division by zero\n",
    "except ValueError:\n",
    "    print(\"Invalid input! Please enter two valid numbers.\")\n",
    "except ZeroDivisionError as e:\n",
    "    print(\"Error: Cannot divide by zero!\")\n",
    "#else block that displays the final result when no exceptions occur\n",
    "else:\n",
    "    print(f\"The final result is: {result}\")\n",
    "#finally block that prints a closing message regardless of exceptions\n",
    "finally:\n",
    "    print(\"This block always executes\")"
   ],
   "id": "30eb2a6e3a799e3",
   "outputs": [],
   "execution_count": null
  },
  {
   "metadata": {},
   "cell_type": "code",
   "source": "",
   "id": "41099e473722efa2",
   "outputs": [],
   "execution_count": null
  }
 ],
 "metadata": {
  "kernelspec": {
   "display_name": "Python 3",
   "language": "python",
   "name": "python3"
  },
  "language_info": {
   "codemirror_mode": {
    "name": "ipython",
    "version": 2
   },
   "file_extension": ".py",
   "mimetype": "text/x-python",
   "name": "python",
   "nbconvert_exporter": "python",
   "pygments_lexer": "ipython2",
   "version": "2.7.6"
  }
 },
 "nbformat": 4,
 "nbformat_minor": 5
}
