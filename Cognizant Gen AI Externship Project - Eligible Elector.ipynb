{
 "cells": [
  {
   "cell_type": "code",
   "execution_count": 5,
   "id": "initial_id",
   "metadata": {
    "ExecuteTime": {
     "end_time": "2025-06-25T03:04:23.830733Z",
     "start_time": "2025-06-25T03:04:21.006478Z"
    }
   },
   "outputs": [
    {
     "name": "stdout",
     "output_type": "stream",
     "text": [
      "Congratulations! You are eligible to vote. Go make a difference!\n"
     ]
    }
   ],
   "source": [
    "#Asking the user's age\n",
    "age = int(input(\"How old are you? \"))\n",
    "\n",
    "#Calculating the years left before being able to vote if not eligible\n",
    "years = 18 - age\n",
    "\n",
    "#Conditional statement to determine voting eligibility based on user input of age\n",
    "if age >= 18:\n",
    "    print(\"Congratulations! You are eligible to vote. Go make a difference!\")\n",
    "elif age < 18:\n",
    "    print(\"Oops! You’re not eligible yet. But hey, only \" + str(years) + \" more years to go!\")"
   ]
  },
  {
   "cell_type": "code",
   "execution_count": null,
   "id": "192483fb3f6b8f38",
   "metadata": {},
   "outputs": [],
   "source": []
  }
 ],
 "metadata": {
  "kernelspec": {
   "display_name": "Python 3 (ipykernel)",
   "language": "python",
   "name": "python3"
  },
  "language_info": {
   "codemirror_mode": {
    "name": "ipython",
    "version": 3
   },
   "file_extension": ".py",
   "mimetype": "text/x-python",
   "name": "python",
   "nbconvert_exporter": "python",
   "pygments_lexer": "ipython3",
   "version": "3.10.1"
  }
 },
 "nbformat": 4,
 "nbformat_minor": 5
}
