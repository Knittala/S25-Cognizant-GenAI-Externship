{
 "cells": [
  {
   "cell_type": "code",
   "id": "initial_id",
   "metadata": {
    "collapsed": true
   },
   "source": [
    "#Task 1: String Slicing and Indexing\n",
    "\n",
    "py_amazing = \"Python is amazing!\"\n",
    "\n",
    "#slicing the first 6 characters of the statement\n",
    "first = py_amazing[0:6]\n",
    "\n",
    "#printing the first word\n",
    "print(\"First word: \" + first)\n",
    "\n",
    "#slicing \"amazing\" from the statement\n",
    "amazing = py_amazing[10:-1]\n",
    "\n",
    "#printing the amazing part\n",
    "print(\"Amazing part: \" + amazing)\n",
    "\n",
    "#retreiving the reversed statement\n",
    "reversed_statement = py_amazing[:18][::-1]\n",
    "\n",
    "#printing the reversed statement\n",
    "print(\"Reversed string: \" + reversed_statement)"
   ],
   "outputs": [],
   "execution_count": null
  },
  {
   "metadata": {},
   "cell_type": "code",
   "source": [
    "#Task 2: String Methods\n",
    "\n",
    "intro = \" hello, python world! \"\n",
    "\n",
    "#removing spaces from the intro string using .strip()\n",
    "remove_spaces = intro.strip()\n",
    "\n",
    "#capitalizing the first letter of the intro string after extra spaces have been removed\n",
    "remove_spaces = remove_spaces.capitalize()\n",
    "capitalize_first = remove_spaces[0:1]\n",
    "\n",
    "#replacing \"world\" with \"universe\" in the intro string\n",
    "replace_world = remove_spaces.replace(\"world\", \"universe\")\n",
    "\n",
    "#converting the intro string to uppercase\n",
    "uppercase = replace_world.upper()\n",
    "\n",
    "final = uppercase\n",
    "\n",
    "#printing the final statement with all changes applied\n",
    "print(final)"
   ],
   "id": "ed51e78490a35c5a",
   "outputs": [],
   "execution_count": null
  },
  {
   "metadata": {},
   "cell_type": "code",
   "source": [
    "#Task 3: Check for Palindromes\n",
    "\n",
    "#asking the user to enter a word\n",
    "chosen_word = input(\"Enter a word: \")\n",
    "\n",
    "#reversing the chosen word to check if the same characters are present\n",
    "reversed_chosen = chosen_word[::-1]\n",
    "\n",
    "#conditional statement that notifies the user if the word is or is not a palindrome\n",
    "if chosen_word == reversed_chosen:\n",
    "    print (\"Yes, \" + chosen_word + \" is a palindrome!\")\n",
    "else:\n",
    "    print(\"No, \" + chosen_word + \" is not a palindrome.\")"
   ],
   "id": "214d617767dda625",
   "outputs": [],
   "execution_count": null
  },
  {
   "metadata": {},
   "cell_type": "code",
   "source": "",
   "id": "b993ede5b5159c1c",
   "outputs": [],
   "execution_count": null
  }
 ],
 "metadata": {
  "kernelspec": {
   "display_name": "Python 3",
   "language": "python",
   "name": "python3"
  },
  "language_info": {
   "codemirror_mode": {
    "name": "ipython",
    "version": 2
   },
   "file_extension": ".py",
   "mimetype": "text/x-python",
   "name": "python",
   "nbconvert_exporter": "python",
   "pygments_lexer": "ipython2",
   "version": "2.7.6"
  }
 },
 "nbformat": 4,
 "nbformat_minor": 5
}
