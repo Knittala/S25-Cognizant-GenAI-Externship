{
 "cells": [
  {
   "cell_type": "code",
   "id": "initial_id",
   "metadata": {
    "collapsed": true
   },
   "source": [
    "#Step 1: Creating the Menu of Operations\n",
    "print(\"Menu of Operations:\")\n",
    "print(\"1. Addition\")\n",
    "print(\"2. Subtraction\")\n",
    "print(\"3. Multiplication\")\n",
    "print(\"4. Division\")\n",
    "print(\"5. Exit\")\n",
    "\n",
    "while True:\n",
    "#taking user input for choice\n",
    "    choice = input(\"Enter your choice: \")\n",
    "\n",
    "#Step 2: Input Validation\n",
    "\n",
    "#Conditional statements based on choice of menu option\n",
    "    if choice == \"5\":\n",
    "        print(\"Goodbye!\")\n",
    "        break\n",
    "    elif choice in (\"1\", \"2\", \"3\", \"4\"):\n",
    "#try block #1\n",
    "        try:\n",
    "            num1 = input(\"Enter first number: \")\n",
    "            num2 = input(\"Enter second number: \")\n",
    "\n",
    "            if num1.isdigit() and num2.isdigit():\n",
    "                num1 = float(num1)\n",
    "                num2 = float(num2)\n",
    "\n",
    "                if choice == \"1\":\n",
    "                    summation = num1 + num2\n",
    "                    print(f\"The sum of your two numbers is: {summation}\")\n",
    "                elif choice == \"2\":\n",
    "                    subtraction = num1 - num2\n",
    "                    print(f\"The difference of your two numbers is: {subtraction}\")\n",
    "                elif choice == \"3\":\n",
    "                    multiplication = num1 * num2\n",
    "                    print(f\"The product of your two numbers is: {multiplication}\")\n",
    "                elif choice == \"4\":\n",
    "#try block #2\n",
    "                    try:\n",
    "                        division = num1 / num2\n",
    "                        print(f\"The quotient of your two numbers is: {division}\")\n",
    "#except block. ZeroDivisionError that notifies the user that division by zero is not allowed\n",
    "                    except ZeroDivisionError:\n",
    "                        print(\"Oops! Division by zero is not allowed.\")\n",
    "#else block\n",
    "            else:\n",
    "                print(\"Invalid input. Please try again.\")\n",
    "#ValueError that notifies the user that an invalid input has been entered\n",
    "        except ValueError:\n",
    "            print(\"Invalid input. Please try again.\")\n",
    "#finally block that notifies the user that the operation was calculated even when exceptions occur\n",
    "        finally:\n",
    "            print(\"Operation(s) calculated.\")\n",
    "    else:\n",
    "        print(\"Invalid choice. Please select an available option from the menu.\")\n",
    "#final message printed to the user\n",
    "    print(\"Thank you for using this program to calculate!\")"
   ],
   "outputs": [],
   "execution_count": null
  },
  {
   "metadata": {},
   "cell_type": "code",
   "source": "",
   "id": "3d2da102cc365af0",
   "outputs": [],
   "execution_count": null
  }
 ],
 "metadata": {
  "kernelspec": {
   "display_name": "Python 3",
   "language": "python",
   "name": "python3"
  },
  "language_info": {
   "codemirror_mode": {
    "name": "ipython",
    "version": 2
   },
   "file_extension": ".py",
   "mimetype": "text/x-python",
   "name": "python",
   "nbconvert_exporter": "python",
   "pygments_lexer": "ipython2",
   "version": "2.7.6"
  }
 },
 "nbformat": 4,
 "nbformat_minor": 5
}
