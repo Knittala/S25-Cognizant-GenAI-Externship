{
 "cells": [
  {
   "cell_type": "code",
   "id": "initial_id",
   "metadata": {
    "collapsed": true
   },
   "source": [
    "# Task 1: Working with Lists\n",
    "\n",
    "#Creation of a list\n",
    "fruit = [\"mango\", \"grapes\", \"pineapple\", \"dragonfruit\", \"peach\"]\n",
    "\n",
    "#Printing the original list\n",
    "print(\"Original list: \" + str(fruit))\n",
    "\n",
    "#adding strawberry to the list through append()\n",
    "fruit.append(\"strawberry\")\n",
    "print(\"After adding a fruit: \" + str(fruit))\n",
    "\n",
    "#removing dragonfruit from the list through remove()\n",
    "fruit.remove(\"dragonfruit\")\n",
    "print(\"After removing a fruit: \" + str(fruit))\n",
    "\n",
    "#reversing the order of elements within the list through reverse()\n",
    "fruit.reverse()\n",
    "print(\"Reversed list: \" + str(fruit))"
   ],
   "outputs": [],
   "execution_count": null
  },
  {
   "metadata": {},
   "cell_type": "code",
   "source": [
    "#Task 2: Exploring Dictionaries\n",
    "\n",
    "#Creation of the dictionary\n",
    "self_dict = {\n",
    "    \"name\": \"Kundana\",\n",
    "    \"age\": 22,\n",
    "    \"city\": \"Atlanta\",\n",
    "}\n",
    "\n",
    "#adding a new key-value pair for favorite color\n",
    "self_dict[\"favorite color\"] = \"purple\"\n",
    "\n",
    "#updating the existing city key with a new value\n",
    "self_dict[\"city\"] = \"Chicago\"\n",
    "\n",
    "#Joining together all key and value elements with .join() and a for loop to output the keys and values in my dictionary\n",
    "joint_keys = \", \".join(self_dict.keys())\n",
    "print(f\"Keys: {joint_keys}\")\n",
    "\n",
    "joint_values = \", \".join(str(v) for v in self_dict.values())\n",
    "print(f\"Values: {joint_values}\")"
   ],
   "id": "70e8dcdec9464178",
   "outputs": [],
   "execution_count": null
  },
  {
   "metadata": {},
   "cell_type": "code",
   "source": [
    "#Task 3: Using Tuples\n",
    "\n",
    "#creation of tuple\n",
    "my_tuple = ('Up', 'Firework', 'Snowflower and the Secret Fan')\n",
    "\n",
    "#printing the tuple\n",
    "print(f\"Favorite things: {my_tuple}\")\n",
    "\n",
    "#printing the length of the tuple\n",
    "print(f\"Length of tuple: {len(my_tuple)}\")"
   ],
   "id": "b50c4438141e6cc4",
   "outputs": [],
   "execution_count": null
  },
  {
   "metadata": {},
   "cell_type": "code",
   "source": "",
   "id": "5cfdec41167464d0",
   "outputs": [],
   "execution_count": null
  }
 ],
 "metadata": {
  "kernelspec": {
   "display_name": "Python 3",
   "language": "python",
   "name": "python3"
  },
  "language_info": {
   "codemirror_mode": {
    "name": "ipython",
    "version": 2
   },
   "file_extension": ".py",
   "mimetype": "text/x-python",
   "name": "python",
   "nbconvert_exporter": "python",
   "pygments_lexer": "ipython2",
   "version": "2.7.6"
  }
 },
 "nbformat": 4,
 "nbformat_minor": 5
}
