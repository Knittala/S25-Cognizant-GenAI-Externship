{
 "cells": [
  {
   "cell_type": "code",
   "id": "initial_id",
   "metadata": {
    "collapsed": true,
    "ExecuteTime": {
     "end_time": "2025-06-26T21:24:50.516961Z",
     "start_time": "2025-06-26T21:24:50.502177Z"
    }
   },
   "source": [
    "#Creating the initial inventory\n",
    "inventory = {\n",
    "    \"apple\": (8, 10),\n",
    "    \"pear\": (10, 3.5)\n",
    "}\n",
    "\n",
    "#Displaying the current inventory\n",
    "    print(\"Welcome to the Inventory Manager!\")\n",
    "    print(\"Current Inventory: \")\n",
    "    for item, info_tuple in inventory.items():\n",
    "        quantity, price = info_tuple\n",
    "        print(f\" Item: {item}, Quantity: {quantity}, Price: ${price:.1f}\")\n",
    "\n",
    "#Adding a new item to the dictionary\n",
    "    print(\"\\nAdding an item: blueberry\")\n",
    "    inventory[\"blueberry\"] = (20, 0.5)\n",
    "\n",
    "#Updating the inventory\n",
    "    print(\"\\nUpdating the Inventory: \")\n",
    "    for item, info_tuple in inventory.items():\n",
    "        quantity, price = info_tuple\n",
    "        print(f\" Item: {item}, Quantity: {quantity}, Price: ${price:.1f}\")\n",
    "\n",
    "#Removing an item from the dictionary\n",
    "    print(\"\\nRemoving an item: pear\")\n",
    "    del inventory[\"pear\"]\n",
    "\n",
    "#Updating the inventory\n",
    "    print(\"\\nUpdating the Inventory: \")\n",
    "    for item, info_tuple in inventory.items():\n",
    "        quantity, price = info_tuple\n",
    "        print(f\" Item: {item}, Quantity: {quantity}, Price: ${price:.1f}\")\n",
    "\n",
    "#Updating the quantity or price of an existing item\n",
    "    print(\"\\nUpdating the quantity or price of an existing item: apple\")\n",
    "    inventory[\"apple\"] = (10, 10)\n",
    "\n",
    "#Updating the inventory\n",
    "    print(\"\\nUpdating the Inventory: \")\n",
    "    for item, info_tuple in inventory.items():\n",
    "        quantity, price = info_tuple\n",
    "        product = f\"Item: {item}, Quantity: {quantity}, Price: {price}\"\n",
    "        print(f\" Item: {item}, Quantity: {quantity}, Price: ${price:.1f}\")"
   ],
   "outputs": [
    {
     "name": "stdout",
     "output_type": "stream",
     "text": [
      "Welcome to the Inventory Manager!\n",
      "Current Inventory: \n",
      " Item: apple, Quantity: 8, Price: $10.0\n",
      " Item: pear, Quantity: 10, Price: $3.5\n",
      "\n",
      "Adding an item: blueberry\n",
      "\n",
      "Updating the Inventory: \n",
      " Item: apple, Quantity: 8, Price: $10.0\n",
      " Item: pear, Quantity: 10, Price: $3.5\n",
      " Item: blueberry, Quantity: 20, Price: $0.5\n",
      "\n",
      "Removing an item: pear\n",
      "\n",
      "Updating the Inventory: \n",
      " Item: apple, Quantity: 8, Price: $10.0\n",
      " Item: blueberry, Quantity: 20, Price: $0.5\n",
      "\n",
      "Updating the quantity or price of an existing item: apple\n",
      "\n",
      "Updating the Inventory: \n",
      " Item: apple, Quantity: 10, Price: $10.0\n",
      " Item: blueberry, Quantity: 20, Price: $0.5\n"
     ]
    }
   ],
   "execution_count": 17
  },
  {
   "metadata": {},
   "cell_type": "code",
   "outputs": [],
   "execution_count": null,
   "source": "",
   "id": "31eca61db04fa63b"
  }
 ],
 "metadata": {
  "kernelspec": {
   "display_name": "Python 3",
   "language": "python",
   "name": "python3"
  },
  "language_info": {
   "codemirror_mode": {
    "name": "ipython",
    "version": 2
   },
   "file_extension": ".py",
   "mimetype": "text/x-python",
   "name": "python",
   "nbconvert_exporter": "python",
   "pygments_lexer": "ipython2",
   "version": "2.7.6"
  }
 },
 "nbformat": 4,
 "nbformat_minor": 5
}
